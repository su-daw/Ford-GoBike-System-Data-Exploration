{
 "cells": [
  {
   "cell_type": "markdown",
   "metadata": {
    "slideshow": {
     "slide_type": "slide"
    }
   },
   "source": [
    "# Ford-GoBike-System Data Exploring\n",
    "## by Sultanah Aldossari"
   ]
  },
  {
   "cell_type": "markdown",
   "metadata": {
    "slideshow": {
     "slide_type": "slide"
    }
   },
   "source": [
    "## Investigation Overview\n",
    "\n",
    "\n",
    "> The Ford GoBike system is one of several bike sharing programs in the San Francisco Bay Area. As of January 2018, Bay Wheels had about 10,000 subscribers and launched the first regional and large-scale bicycle sharing system in California and the Western United States. It has provided nearly 500,000 rides since its launch in 2017. This exploration and visualization study primarily focuses on finding the bike usage pattern and customer habit characteristics from ride trips data in Feb 2019.\n",
    "\n",
    "## Dataset Overview\n",
    "\n",
    "> The dataset include information about bike trips on February and March 2019. It include 183412 observations and 16 columns. The dataset include:\n",
    "\n",
    "- duration_sec: Trip duration in seconds\n",
    "- start_time: Trip start time and date\n",
    "- end_time: Trip end time and date\n",
    "- start_station_id: Trip start station id\n",
    "- start_station_name: Station name\n",
    "- start_station_latitude: Start station latitude\n",
    "- start_station_longitude Start station longitude\n",
    "- end_station_id: Trip end station ID\n",
    "- end_station_name: Trip end station name\n",
    "- end_station_latitude: End Station Latitude\n",
    "- end_station_longitude: End Station Longitude\n",
    "- bike_id: Bike ID\n",
    "- user_type: User type whether a subscriber or a customer -- (“Subscriber” = Member or “Customer” = Casual)\n",
    "- member_birth_year: User birth year\n",
    "- member_gender: User gender whether a female or male\n",
    "- bike_share_for_all_trip"
   ]
  },
  {
   "cell_type": "code",
   "execution_count": 3,
   "metadata": {
    "slideshow": {
     "slide_type": "skip"
    }
   },
   "outputs": [],
   "source": [
    "# import all packages and set plots to be embedded inline\n",
    "import numpy as np\n",
    "import pandas as pd\n",
    "import matplotlib.pyplot as plt\n",
    "import seaborn as sns\n",
    "\n",
    "%matplotlib inline\n",
    "\n",
    "# suppress warnings from final output\n",
    "import warnings\n",
    "warnings.simplefilter(\"ignore\")"
   ]
  },
  {
   "cell_type": "code",
   "execution_count": 6,
   "metadata": {
    "slideshow": {
     "slide_type": "skip"
    }
   },
   "outputs": [
    {
     "data": {
      "text/html": [
       "<div>\n",
       "<style scoped>\n",
       "    .dataframe tbody tr th:only-of-type {\n",
       "        vertical-align: middle;\n",
       "    }\n",
       "\n",
       "    .dataframe tbody tr th {\n",
       "        vertical-align: top;\n",
       "    }\n",
       "\n",
       "    .dataframe thead th {\n",
       "        text-align: right;\n",
       "    }\n",
       "</style>\n",
       "<table border=\"1\" class=\"dataframe\">\n",
       "  <thead>\n",
       "    <tr style=\"text-align: right;\">\n",
       "      <th></th>\n",
       "      <th>Unnamed: 0</th>\n",
       "      <th>duration_sec</th>\n",
       "      <th>start_time</th>\n",
       "      <th>end_time</th>\n",
       "      <th>start_station_name</th>\n",
       "      <th>end_station_name</th>\n",
       "      <th>bike_id</th>\n",
       "      <th>user_type</th>\n",
       "      <th>member_birth_year</th>\n",
       "      <th>member_gender</th>\n",
       "      <th>bike_share_for_all_trip</th>\n",
       "      <th>duration_minute</th>\n",
       "      <th>member_age</th>\n",
       "      <th>start_time_hour</th>\n",
       "      <th>weekday</th>\n",
       "      <th>age_bins</th>\n",
       "      <th>bins</th>\n",
       "    </tr>\n",
       "  </thead>\n",
       "  <tbody>\n",
       "    <tr>\n",
       "      <th>0</th>\n",
       "      <td>0</td>\n",
       "      <td>52185</td>\n",
       "      <td>2019-02-28 17:32:10.145</td>\n",
       "      <td>2019-03-01 08:01:55.975</td>\n",
       "      <td>Montgomery St BART Station (Market St at 2nd St)</td>\n",
       "      <td>Commercial St at Montgomery St</td>\n",
       "      <td>4902</td>\n",
       "      <td>Customer</td>\n",
       "      <td>1984</td>\n",
       "      <td>Male</td>\n",
       "      <td>No</td>\n",
       "      <td>869.750000</td>\n",
       "      <td>35</td>\n",
       "      <td>17</td>\n",
       "      <td>Thursday</td>\n",
       "      <td>(30, 40]</td>\n",
       "      <td>middle-aged adult</td>\n",
       "    </tr>\n",
       "    <tr>\n",
       "      <th>1</th>\n",
       "      <td>2</td>\n",
       "      <td>61854</td>\n",
       "      <td>2019-02-28 12:13:13.218</td>\n",
       "      <td>2019-03-01 05:24:08.146</td>\n",
       "      <td>Market St at Dolores St</td>\n",
       "      <td>Powell St BART Station (Market St at 4th St)</td>\n",
       "      <td>5905</td>\n",
       "      <td>Customer</td>\n",
       "      <td>1972</td>\n",
       "      <td>Male</td>\n",
       "      <td>No</td>\n",
       "      <td>1030.900000</td>\n",
       "      <td>47</td>\n",
       "      <td>12</td>\n",
       "      <td>Thursday</td>\n",
       "      <td>(40, 50]</td>\n",
       "      <td>old-aged adults</td>\n",
       "    </tr>\n",
       "    <tr>\n",
       "      <th>2</th>\n",
       "      <td>3</td>\n",
       "      <td>36490</td>\n",
       "      <td>2019-02-28 17:54:26.010</td>\n",
       "      <td>2019-03-01 04:02:36.842</td>\n",
       "      <td>Grove St at Masonic Ave</td>\n",
       "      <td>Central Ave at Fell St</td>\n",
       "      <td>6638</td>\n",
       "      <td>Subscriber</td>\n",
       "      <td>1989</td>\n",
       "      <td>Other</td>\n",
       "      <td>No</td>\n",
       "      <td>608.166667</td>\n",
       "      <td>30</td>\n",
       "      <td>17</td>\n",
       "      <td>Thursday</td>\n",
       "      <td>(20, 30]</td>\n",
       "      <td>young adult</td>\n",
       "    </tr>\n",
       "    <tr>\n",
       "      <th>3</th>\n",
       "      <td>4</td>\n",
       "      <td>1585</td>\n",
       "      <td>2019-02-28 23:54:18.549</td>\n",
       "      <td>2019-03-01 00:20:44.074</td>\n",
       "      <td>Frank H Ogawa Plaza</td>\n",
       "      <td>10th Ave at E 15th St</td>\n",
       "      <td>4898</td>\n",
       "      <td>Subscriber</td>\n",
       "      <td>1974</td>\n",
       "      <td>Male</td>\n",
       "      <td>Yes</td>\n",
       "      <td>26.416667</td>\n",
       "      <td>45</td>\n",
       "      <td>23</td>\n",
       "      <td>Thursday</td>\n",
       "      <td>(40, 50]</td>\n",
       "      <td>old-aged adults</td>\n",
       "    </tr>\n",
       "    <tr>\n",
       "      <th>4</th>\n",
       "      <td>5</td>\n",
       "      <td>1793</td>\n",
       "      <td>2019-02-28 23:49:58.632</td>\n",
       "      <td>2019-03-01 00:19:51.760</td>\n",
       "      <td>4th St at Mission Bay Blvd S</td>\n",
       "      <td>Broadway at Kearny</td>\n",
       "      <td>5200</td>\n",
       "      <td>Subscriber</td>\n",
       "      <td>1959</td>\n",
       "      <td>Male</td>\n",
       "      <td>No</td>\n",
       "      <td>29.883333</td>\n",
       "      <td>60</td>\n",
       "      <td>23</td>\n",
       "      <td>Thursday</td>\n",
       "      <td>(50, 60]</td>\n",
       "      <td>senior</td>\n",
       "    </tr>\n",
       "  </tbody>\n",
       "</table>\n",
       "</div>"
      ],
      "text/plain": [
       "   Unnamed: 0  duration_sec               start_time                 end_time  \\\n",
       "0           0         52185  2019-02-28 17:32:10.145  2019-03-01 08:01:55.975   \n",
       "1           2         61854  2019-02-28 12:13:13.218  2019-03-01 05:24:08.146   \n",
       "2           3         36490  2019-02-28 17:54:26.010  2019-03-01 04:02:36.842   \n",
       "3           4          1585  2019-02-28 23:54:18.549  2019-03-01 00:20:44.074   \n",
       "4           5          1793  2019-02-28 23:49:58.632  2019-03-01 00:19:51.760   \n",
       "\n",
       "                                 start_station_name  \\\n",
       "0  Montgomery St BART Station (Market St at 2nd St)   \n",
       "1                           Market St at Dolores St   \n",
       "2                           Grove St at Masonic Ave   \n",
       "3                               Frank H Ogawa Plaza   \n",
       "4                      4th St at Mission Bay Blvd S   \n",
       "\n",
       "                               end_station_name  bike_id   user_type  \\\n",
       "0                Commercial St at Montgomery St     4902    Customer   \n",
       "1  Powell St BART Station (Market St at 4th St)     5905    Customer   \n",
       "2                        Central Ave at Fell St     6638  Subscriber   \n",
       "3                         10th Ave at E 15th St     4898  Subscriber   \n",
       "4                            Broadway at Kearny     5200  Subscriber   \n",
       "\n",
       "   member_birth_year member_gender bike_share_for_all_trip  duration_minute  \\\n",
       "0               1984          Male                      No       869.750000   \n",
       "1               1972          Male                      No      1030.900000   \n",
       "2               1989         Other                      No       608.166667   \n",
       "3               1974          Male                     Yes        26.416667   \n",
       "4               1959          Male                      No        29.883333   \n",
       "\n",
       "   member_age  start_time_hour   weekday  age_bins               bins  \n",
       "0          35               17  Thursday  (30, 40]  middle-aged adult  \n",
       "1          47               12  Thursday  (40, 50]    old-aged adults  \n",
       "2          30               17  Thursday  (20, 30]        young adult  \n",
       "3          45               23  Thursday  (40, 50]    old-aged adults  \n",
       "4          60               23  Thursday  (50, 60]             senior  "
      ]
     },
     "execution_count": 6,
     "metadata": {},
     "output_type": "execute_result"
    }
   ],
   "source": [
    "# load in the dataset into a pandas dataframe\n",
    "df2 = pd.read_csv('trips2019.csv')\n",
    "df2.head()"
   ]
  },
  {
   "cell_type": "markdown",
   "metadata": {
    "slideshow": {
     "slide_type": "slide"
    }
   },
   "source": [
    "## Bike Trips by Age Group\n",
    "\n",
    "The plot effectively illustrates that the most bike trips is for young adults [20,30]Y and middle aged [40,50]Y."
   ]
  },
  {
   "cell_type": "code",
   "execution_count": 8,
   "metadata": {
    "slideshow": {
     "slide_type": "slide"
    }
   },
   "outputs": [
    {
     "data": {
      "image/png": "[encoded data removed]",
      "text/plain": [
       "<matplotlib.figure.Figure at 0x7f893c9ff128>"
      ]
     },
     "metadata": {
      "needs_background": "light"
     },
     "output_type": "display_data"
    }
   ],
   "source": [
    "#Code-Source: https://www.codegrepper.com/code-examples/python/how+to+add+percentage+in+countplot\n",
    "plt.figure(figsize=(8,5))\n",
    "color = sns.color_palette('colorblind')[0]\n",
    "ax = sns.countplot(x=\"bins\", data=df2,color = color)\n",
    "plt.title('Bikes Trips by Age Group', fontsize=16)\n",
    "plt.xlabel('Age Group',fontsize='14')\n",
    "plt.ylabel('Bike Trips Count', fontsize='14');\n",
    "total = df2.shape[0]\n",
    "bins_counts = df2['bins'].value_counts()\n",
    "locs, labels = plt.xticks()\n",
    "\n",
    "# print frequency on the bar chart\n",
    "for loc, label in zip(locs, labels):\n",
    "    count = bins_counts[label.get_text()]\n",
    "    pct_string = '{:0.1f}%'.format(100*count/total)\n",
    "    plt.text(loc, count-8, pct_string, ha='center')\n"
   ]
  },
  {
   "cell_type": "markdown",
   "metadata": {
    "collapsed": true,
    "slideshow": {
     "slide_type": "slide"
    }
   },
   "source": [
    "## User Type by Day of week\n",
    "\n",
    "> The number of subscribers was higher than the number of casual customers. On weekends, there is a severe decline in volume for subscribers, which suggests that they use their bicycles primarily to commute to work during the week, whereas on weekends, there is a slight increase in volume for customers, which suggests that the use is primarily leisure/touring and relaxing."
   ]
  },
  {
   "cell_type": "code",
   "execution_count": 10,
   "metadata": {
    "slideshow": {
     "slide_type": "slide"
    }
   },
   "outputs": [
    {
     "data": {
      "image/png": "[encoded data removed]",
      "text/plain": [
       "<matplotlib.figure.Figure at 0x7f8943e20e80>"
      ]
     },
     "metadata": {
      "needs_background": "light"
     },
     "output_type": "display_data"
    }
   ],
   "source": [
    "plt.figure(figsize=(8,5))\n",
    "sns.barplot(data=mask, x=\"weekday\",y=0, hue=\"user_type\")\n",
    "plt.title('Day of Week',fontsize=16)\n",
    "plt.xlabel('Day of Week', fontsize=14)\n",
    "plt.ylabel('Number of Bikes Trips', fontsize=14);"
   ]
  },
  {
   "cell_type": "markdown",
   "metadata": {
    "slideshow": {
     "slide_type": "slide"
    }
   },
   "source": [
    "##  User Type and their bike trips by hours\n",
    "\n",
    "The number of subscribers was higher than the number of casual customers. we can see from the plot clearly peaks out on typical rush hours when people go to work in the morning and getting off work in the afternoon"
   ]
  },
  {
   "cell_type": "code",
   "execution_count": 11,
   "metadata": {
    "slideshow": {
     "slide_type": "slide"
    }
   },
   "outputs": [
    {
     "data": {
      "image/png": "[encoded data removed]",
      "text/plain": [
       "<matplotlib.figure.Figure at 0x7f8943dcf588>"
      ]
     },
     "metadata": {
      "needs_background": "light"
     },
     "output_type": "display_data"
    }
   ],
   "source": [
    "mask2 = df2.groupby(['start_time_hour', 'user_type']).size().reset_index()\n",
    "plt.figure(figsize=(15,7))\n",
    "p = sns.countplot(data = df2, x = 'start_time_hour', hue = 'user_type')\n",
    "p.legend();\n",
    "plt.title('User Type by hours', fontsize=16)\n",
    "plt.xlabel('Hours', fontsize=14)\n",
    "plt.ylabel('Number of Bike Trips', fontsize=14);"
   ]
  },
  {
   "cell_type": "markdown",
   "metadata": {
    "slideshow": {
     "slide_type": "slide"
    }
   },
   "source": [
    "# Summary\n",
    "\n",
    "> Since FordGo Bikes are affordable and convenient transportation for anyone, this project will benefit a substantial number of people. Customers will also be able to walk around the city in a flexible and sustainable manner. In the analysis, the service is convenient for subscribers. With Ford GoBikes, you can move around the city in a sustainable way, whether for work or leisure. Customers and subscribers alike can utilize the system. Most subscribers commute to and from work on a daily basis. On weekdays, it rents bikes from 8 a.m. to 9 a.m. and from 5 a.m. to 6 p.m., sometimes during lunchtime. Most users are tourists and occasional riders who use the system on weekends to explore the Bay Area."
   ]
  },
  {
   "cell_type": "code",
   "execution_count": null,
   "metadata": {},
   "outputs": [],
   "source": []
  }
 ],
 "metadata": {
  "celltoolbar": "Slideshow",
  "kernelspec": {
   "display_name": "Python 3",
   "language": "python",
   "name": "python3"
  },
  "language_info": {
   "codemirror_mode": {
    "name": "ipython",
    "version": 3
   },
   "file_extension": ".py",
   "mimetype": "text/x-python",
   "name": "python",
   "nbconvert_exporter": "python",
   "pygments_lexer": "ipython3",
   "version": "3.6.3"
  }
 },
 "nbformat": 4,
 "nbformat_minor": 2
}
